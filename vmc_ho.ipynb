{
 "cells": [
  {
   "cell_type": "markdown",
   "metadata": {},
   "source": [
    "# Variational Monte Carlo: Harmonic Oscillator"
   ]
  },
  {
   "cell_type": "code",
   "execution_count": null,
   "metadata": {},
   "outputs": [],
   "source": [
    "import numpy as np\n",
    "import matplotlib.pyplot as plt\n",
    "\n",
    "%config InlineBackend.figure_format = 'retina'\n",
    "%matplotlib inline\n",
    "try: plt.style.use('./notebook.mplstyle')\n",
    "except: pass\n",
    "\n",
    "red,blue,green = '#e85c47','#4173b2','#7dcca4'"
   ]
  },
  {
   "cell_type": "markdown",
   "metadata": {},
   "source": [
    "## Hamiltonian\n",
    "\n",
    "\\begin{equation}\n",
    "\\hat{H} = -\\frac{1}{2} \\frac{d^2}{dx^2} + \\frac{1}{2} x^2\n",
    "\\end{equation}\n",
    "\n",
    "where $\\hbar = \\omega = m = 1$.\n",
    "\n",
    "## Local Energy and Transition Probability\n",
    "\n",
    "\\begin{equation}\n",
    "E_L^\\alpha (x) = \\alpha + x^2\\left(\\frac{1}{2} - 2\\alpha^2\\right)\n",
    "\\end{equation}\n",
    "\n",
    "\\begin{equation}\n",
    "\\frac{\\pi(x^\\prime)}{\\pi(x)} = \\mathrm{e}^{-2\\alpha({x^\\prime}^2 - x^2)}\n",
    "\\end{equation}"
   ]
  },
  {
   "cell_type": "code",
   "execution_count": 2,
   "metadata": {},
   "outputs": [],
   "source": [
    "def EL(x,α):\n",
    "    return α + x**2*(0.5-2*α**2)\n",
    "\n",
    "def transition_probability(x,x̄,α):\n",
    "    return np.exp(-2*α*(x̄**2-x**2))"
   ]
  },
  {
   "cell_type": "code",
   "execution_count": 3,
   "metadata": {},
   "outputs": [],
   "source": [
    "def vmc(num_walkers,num_MC_steps,num_equil_steps,α,δ=1.0):\n",
    "    \n",
    "    # initilaize walkers\n",
    "    walkers = -0.5 + np.random.rand(num_walkers)\n",
    "    \n",
    "    # initialize energy and number of accepted updates\n",
    "    estimator = {'E':np.zeros(num_MC_steps-num_equil_steps)}\n",
    "    num_accepted = 0\n",
    "    \n",
    "    for step in range(num_MC_steps):\n",
    "        \n",
    "        # generate new walker positions \n",
    "        new_walkers = np.random.normal(loc=walkers, scale=δ, size=num_walkers)\n",
    "        \n",
    "        # test new walkers\n",
    "        for i in range(num_walkers):\n",
    "            if np.random.random() < transition_probability(walkers[i],new_walkers[i],α):\n",
    "                num_accepted += 1\n",
    "                walkers[i] = new_walkers[i]\n",
    "                \n",
    "            # measure energy\n",
    "            if step >= num_equil_steps:\n",
    "                measure = step-num_equil_steps\n",
    "                estimator['E'][measure] = EL(walkers[i],α)\n",
    "                \n",
    "    # output the acceptance ratio\n",
    "    print('accept: %4.2f' % (num_accepted/(num_MC_steps*num_walkers)))\n",
    "    \n",
    "    return estimator"
   ]
  },
  {
   "cell_type": "markdown",
   "metadata": {},
   "source": [
    "## Perform the VMC Simulation"
   ]
  },
  {
   "cell_type": "code",
   "execution_count": 4,
   "metadata": {},
   "outputs": [
    {
     "name": "stdout",
     "output_type": "stream",
     "text": [
      "accept: 0.62\n"
     ]
    }
   ],
   "source": [
    "α = 0.45\n",
    "num_walkers = 100\n",
    "num_MC_steps = 20000\n",
    "num_equil_steps = 5000\n",
    "\n",
    "np.random.seed(1173)\n",
    "\n",
    "estimator = vmc(num_walkers,num_MC_steps,num_equil_steps,α)"
   ]
  },
  {
   "cell_type": "markdown",
   "metadata": {},
   "source": [
    "## Compute the average energy and standard error"
   ]
  },
  {
   "cell_type": "code",
   "execution_count": 5,
   "metadata": {},
   "outputs": [
    {
     "name": "stdout",
     "output_type": "stream",
     "text": [
      "Ē = 0.501036 ± 0.000566\n"
     ]
    }
   ],
   "source": [
    "from scipy.stats import sem\n",
    "Ē,ΔĒ = np.average(estimator['E']),sem(estimator['E'])\n",
    "\n",
    "print('Ē = %f ± %f' % (Ē,ΔĒ))"
   ]
  },
  {
   "cell_type": "markdown",
   "metadata": {},
   "source": [
    "## Due a brute-force minimizaiton search over the variational parameter $\\alpha$"
   ]
  },
  {
   "cell_type": "code",
   "execution_count": null,
   "metadata": {
    "scrolled": true
   },
   "outputs": [
    {
     "name": "stdout",
     "output_type": "stream",
     "text": [
      "accept: 0.62\n",
      "0.450 \t 0.50387 ± 0.000635\n",
      "accept: 0.62\n",
      "0.475 \t 0.50012 ± 0.000291\n"
     ]
    }
   ],
   "source": [
    "Ēmin = []\n",
    "ΔĒmin = []\n",
    "α = np.array([0.45, 0.475, 0.5, 0.525, 0.55])\n",
    "for cα in α: \n",
    "    estimator = vmc(num_walkers,num_MC_steps,num_equil_steps,cα)\n",
    "    Ē,ΔĒ = np.average(estimator['E']),sem(estimator['E'])\n",
    "    Ēmin.append(Ē)\n",
    "    ΔĒmin.append(ΔĒ)\n",
    "    print('%5.3f \\t %7.5f ± %f' % (cα,Ē,ΔĒ))"
   ]
  },
  {
   "cell_type": "markdown",
   "metadata": {},
   "source": [
    "## Compare VMC with the exact variational energy\n",
    "\n",
    "\\begin{equation}\n",
    "E_v = \\frac{\\alpha}{2} + \\frac{1}{8\\alpha}\n",
    "\\end{equation}"
   ]
  },
  {
   "cell_type": "code",
   "execution_count": null,
   "metadata": {},
   "outputs": [],
   "source": [
    "cα = np.linspace(α[0],α[-1],1000)\n",
    "plt.plot(cα,0.5*cα + 1/(8*cα), '-', linewidth=1, color=green, zorder=-10, \n",
    "         label=r'$\\frac{\\alpha}{2} + \\frac{1}{8\\alpha}$')\n",
    "plt.errorbar(α,Ēmin,yerr=ΔĒmin, linestyle='None', marker='o', elinewidth=1.0, \n",
    "             markersize=6, markerfacecolor=blue, markeredgecolor=blue, ecolor=blue, label='VMC')\n",
    "plt.xlabel(r'$\\alpha$')\n",
    "plt.ylabel('E');\n",
    "plt.xlim(0.44,0.56)\n",
    "plt.legend(loc='upper center')"
   ]
  }
 ],
 "metadata": {
  "kernelspec": {
   "display_name": "Python 3",
   "language": "python",
   "name": "python3"
  },
  "language_info": {
   "codemirror_mode": {
    "name": "ipython",
    "version": 3
   },
   "file_extension": ".py",
   "mimetype": "text/x-python",
   "name": "python",
   "nbconvert_exporter": "python",
   "pygments_lexer": "ipython3",
   "version": "3.5.4"
  }
 },
 "nbformat": 4,
 "nbformat_minor": 1
}
